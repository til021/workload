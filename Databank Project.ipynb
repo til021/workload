{
 "cells": [
  {
   "cell_type": "code",
   "execution_count": 127,
   "id": "bdcf8b2c",
   "metadata": {},
   "outputs": [],
   "source": [
    "import csv\n",
    "import os"
   ]
  },
  {
   "cell_type": "code",
   "execution_count": 128,
   "id": "a734ab4d",
   "metadata": {},
   "outputs": [],
   "source": [
    "# Primeira opção: Visualizar bancos de dados existentes\n",
    "\n",
    "def option_0(path = r\"C:\\Users\\tiago\\OneDrive\\Python\\Jupyter\\Suzano\"):\n",
    "    \n",
    "# Identificando todos os arquivos no diretório e criando uma variável em formato de lista:\n",
    "    arquivos = os.listdir(path)\n",
    "    \n",
    "# Selecionando os arquivos em formato csv:\n",
    "    arquivos_csv = []\n",
    "    for item in arquivos:\n",
    "        if item.endswith(\".csv\"): # Verificamos se o item é no formato .csv\n",
    "            arquivos_csv.append(item[:-4]) # Removemos o tipo de arquivo da lista\n",
    "    \n",
    "    return(arquivos_csv)\n",
    "\n",
    "# Depois quero aprender como colocar o código acima em uma função lambda\n"
   ]
  },
  {
   "cell_type": "code",
   "execution_count": 129,
   "id": "6785f743",
   "metadata": {},
   "outputs": [],
   "source": [
    "# Segunda opção: Inserir um novo banco de dados\n",
    "\n",
    "def option_1(path = r\"C:\\Users\\tiago\\OneDrive\\Python\\Jupyter\\Suzano\"):\n",
    "        \n",
    "    nome_bd = input(\"Digite o nome do novo banco de dados: \")\n",
    "    \n",
    "# Saindo da opção:    \n",
    "    if nome_bd == \"\":\n",
    "        return 0\n",
    "    \n",
    "# Verificando se o BD já existe:    \n",
    "    while nome_bd in option_0():\n",
    "        nome_bd = input(\"Digite o nome de um banco de dados que não exista: \")\n",
    "        if nome_bd == \"\":\n",
    "            return 0\n",
    "    \n",
    "# Criando as colunas do BD:    \n",
    "    with open(f\"{path}/{nome_bd}.csv\", \"w\", newline = \"\") as arquivo_aberto:\n",
    "        header = []\n",
    "        nome_coluna = input(f\"Digite o nome da primeira coluna: \")\n",
    "        \n",
    "        while nome_coluna != \"\":\n",
    "            header.append(nome_coluna)\n",
    "            nome_coluna = input(f\"Digite o nome da próxima coluna: \")\n",
    "                            \n",
    "# Gravando as colunas no arquivo:                \n",
    "        csv.writer(arquivo_aberto).writerow(header)\n",
    "    \n",
    "    return(header, nome_bd)\n",
    "              "
   ]
  },
  {
   "cell_type": "code",
   "execution_count": 130,
   "id": "da196543",
   "metadata": {},
   "outputs": [],
   "source": [
    "def option_2(path = r\"C:\\Users\\tiago\\OneDrive\\Python\\Jupyter\\Suzano\"):\n",
    "    \n",
    "# Selecionando o BD:\n",
    "    nome_arquivo = input(\"Digite o nome do banco de dados a ser utilizado: \")\n",
    "    \n",
    "# Saindo da opção:    \n",
    "    if nome_arquivo == \"\":\n",
    "        return\n",
    "    \n",
    "# Verificando se o BD já existe:    \n",
    "    while nome_arquivo not in option_0():\n",
    "        nome_arquivo = input(\"Digite o nome de um banco de dados que já exista: \")\n",
    "        if nome_arquivo == \"\":\n",
    "            return\n",
    "        \n",
    "# Descobrindo o header do arquivo:\n",
    "    with open(f\"{path}/{nome_arquivo}.csv\", \"r\") as arquivo_aberto:\n",
    "        # Temos que criar um leitor do arquivo antes!\n",
    "        leitor = csv.reader(arquivo_aberto)\n",
    "        header = next(leitor)\n",
    "                \n",
    "# Ler o arquivo e armazenar as linhas em uma tabela\n",
    "        dataset = []\n",
    "        for linha in leitor:\n",
    "            dataset.append(linha)\n",
    "            \n",
    "# Criar a nova linha da tabela\n",
    "    nova_linha = []\n",
    "    for atributo in range(0,len(header)):\n",
    "        nova_linha.append(input(f\"Digite o valor do atributo [{header[atributo]}]: \"))\n",
    "            \n",
    "# Adicionar novas linhas à tabela\n",
    "    with open(f\"{path}/{nome_arquivo}.csv\", \"w\", newline = \"\") as arquivo_aberto:\n",
    "        csv.writer(arquivo_aberto).writerow(header)\n",
    "        for linha in dataset:\n",
    "            csv.writer(arquivo_aberto).writerow(linha)\n",
    "        csv.writer(arquivo_aberto).writerow(nova_linha)\n",
    "  "
   ]
  },
  {
   "cell_type": "code",
   "execution_count": 158,
   "id": "3ea44670",
   "metadata": {},
   "outputs": [],
   "source": [
    "def manage_databank(path = r\"C:\\Users\\tiago\\OneDrive\\Python\\Jupyter\\Suzano\"):\n",
    "\n",
    "    options = [\"1\", \"2\", \"3\"]\n",
    "    action = 0\n",
    "    \n",
    "    print(\"\\nAqui temos a lista dos bancos de dados cadastrados:\\n\")\n",
    "    print(option_0())\n",
    "        \n",
    "# Opções que podem ser selecionadas:\n",
    "    while action not in options:\n",
    "    \n",
    "        action = input(\"Selecione uma opção válida: \\n\\n\\\n",
    "        [1] Inserir novo banco de dados \\n\\\n",
    "        [2] Inserir novo dado em um banco existente\\n\\\n",
    "        [3] Sair\\n\\n\")\n",
    "        \n",
    "# Seleção da primeira opção:                     \n",
    "    if action == \"1\":\n",
    "        print(\"\\nVocê escolheu inserir um novo banco de dados:\\n\")\n",
    "        results = option_1(path)\n",
    "        try:\n",
    "            print (f\"Foram criadas as colunas {results[0]} no banco de dados {results[1]}.csv\")\n",
    "        except:\n",
    "            print(\"\\nNão foi criado nenhum banco de dados.\")\n",
    "\n",
    "# Seleção da segunda opção:           \n",
    "    elif action == \"2\":\n",
    "        print(\"\\nVocê escolheu inserir um dado novo em um banco existente:\\n\")\n",
    "        option_2(path)\n",
    "    \n",
    "    else:\n",
    "        return\n",
    "    "
   ]
  },
  {
   "cell_type": "code",
   "execution_count": 161,
   "id": "3ebc5f55",
   "metadata": {},
   "outputs": [
    {
     "name": "stdout",
     "output_type": "stream",
     "text": [
      "\n",
      "Aqui temos a lista dos bancos de dados cadastrados:\n",
      "\n",
      "['587', '589', 'bd', 'novo banco']\n",
      "Selecione uma opção válida: \n",
      "\n",
      "        [1] Inserir novo banco de dados \n",
      "        [2] Inserir novo dado em um banco existente\n",
      "        [3] Sair\n",
      "\n",
      "uja\n"
     ]
    },
    {
     "ename": "KeyboardInterrupt",
     "evalue": "Interrupted by user",
     "output_type": "error",
     "traceback": [
      "\u001b[1;31m---------------------------------------------------------------------------\u001b[0m",
      "\u001b[1;31mKeyboardInterrupt\u001b[0m                         Traceback (most recent call last)",
      "Input \u001b[1;32mIn [161]\u001b[0m, in \u001b[0;36m<cell line: 1>\u001b[1;34m()\u001b[0m\n\u001b[1;32m----> 1\u001b[0m \u001b[43mmanage_databank\u001b[49m\u001b[43m(\u001b[49m\u001b[43m)\u001b[49m\n",
      "Input \u001b[1;32mIn [158]\u001b[0m, in \u001b[0;36mmanage_databank\u001b[1;34m(path)\u001b[0m\n\u001b[0;32m      9\u001b[0m \u001b[38;5;66;03m# Opções que podem ser selecionadas:\u001b[39;00m\n\u001b[0;32m     10\u001b[0m     \u001b[38;5;28;01mwhile\u001b[39;00m action \u001b[38;5;129;01mnot\u001b[39;00m \u001b[38;5;129;01min\u001b[39;00m options:\n\u001b[1;32m---> 12\u001b[0m         action \u001b[38;5;241m=\u001b[39m \u001b[38;5;28;43minput\u001b[39;49m\u001b[43m(\u001b[49m\u001b[38;5;124;43m\"\u001b[39;49m\u001b[38;5;124;43mSelecione uma opção válida: \u001b[39;49m\u001b[38;5;130;43;01m\\n\u001b[39;49;00m\u001b[38;5;130;43;01m\\n\u001b[39;49;00m\u001b[38;5;130;43;01m\\\u001b[39;49;00m\n\u001b[0;32m     13\u001b[0m \u001b[38;5;124;43m        [1] Inserir novo banco de dados \u001b[39;49m\u001b[38;5;130;43;01m\\n\u001b[39;49;00m\u001b[38;5;130;43;01m\\\u001b[39;49;00m\n\u001b[0;32m     14\u001b[0m \u001b[38;5;124;43m        [2] Inserir novo dado em um banco existente\u001b[39;49m\u001b[38;5;130;43;01m\\n\u001b[39;49;00m\u001b[38;5;130;43;01m\\\u001b[39;49;00m\n\u001b[0;32m     15\u001b[0m \u001b[38;5;124;43m        [3] Sair\u001b[39;49m\u001b[38;5;130;43;01m\\n\u001b[39;49;00m\u001b[38;5;130;43;01m\\n\u001b[39;49;00m\u001b[38;5;124;43m\"\u001b[39;49m\u001b[43m)\u001b[49m\n\u001b[0;32m     17\u001b[0m \u001b[38;5;66;03m# Seleção da primeira opção:                     \u001b[39;00m\n\u001b[0;32m     18\u001b[0m     \u001b[38;5;28;01mif\u001b[39;00m action \u001b[38;5;241m==\u001b[39m \u001b[38;5;124m\"\u001b[39m\u001b[38;5;124m1\u001b[39m\u001b[38;5;124m\"\u001b[39m:\n",
      "File \u001b[1;32m~\\AppData\\Local\\Programs\\Python\\Python310\\lib\\site-packages\\ipykernel\\kernelbase.py:1177\u001b[0m, in \u001b[0;36mKernel.raw_input\u001b[1;34m(self, prompt)\u001b[0m\n\u001b[0;32m   1173\u001b[0m \u001b[38;5;28;01mif\u001b[39;00m \u001b[38;5;129;01mnot\u001b[39;00m \u001b[38;5;28mself\u001b[39m\u001b[38;5;241m.\u001b[39m_allow_stdin:\n\u001b[0;32m   1174\u001b[0m     \u001b[38;5;28;01mraise\u001b[39;00m StdinNotImplementedError(\n\u001b[0;32m   1175\u001b[0m         \u001b[38;5;124m\"\u001b[39m\u001b[38;5;124mraw_input was called, but this frontend does not support input requests.\u001b[39m\u001b[38;5;124m\"\u001b[39m\n\u001b[0;32m   1176\u001b[0m     )\n\u001b[1;32m-> 1177\u001b[0m \u001b[38;5;28;01mreturn\u001b[39;00m \u001b[38;5;28;43mself\u001b[39;49m\u001b[38;5;241;43m.\u001b[39;49m\u001b[43m_input_request\u001b[49m\u001b[43m(\u001b[49m\n\u001b[0;32m   1178\u001b[0m \u001b[43m    \u001b[49m\u001b[38;5;28;43mstr\u001b[39;49m\u001b[43m(\u001b[49m\u001b[43mprompt\u001b[49m\u001b[43m)\u001b[49m\u001b[43m,\u001b[49m\n\u001b[0;32m   1179\u001b[0m \u001b[43m    \u001b[49m\u001b[38;5;28;43mself\u001b[39;49m\u001b[38;5;241;43m.\u001b[39;49m\u001b[43m_parent_ident\u001b[49m\u001b[43m[\u001b[49m\u001b[38;5;124;43m\"\u001b[39;49m\u001b[38;5;124;43mshell\u001b[39;49m\u001b[38;5;124;43m\"\u001b[39;49m\u001b[43m]\u001b[49m\u001b[43m,\u001b[49m\n\u001b[0;32m   1180\u001b[0m \u001b[43m    \u001b[49m\u001b[38;5;28;43mself\u001b[39;49m\u001b[38;5;241;43m.\u001b[39;49m\u001b[43mget_parent\u001b[49m\u001b[43m(\u001b[49m\u001b[38;5;124;43m\"\u001b[39;49m\u001b[38;5;124;43mshell\u001b[39;49m\u001b[38;5;124;43m\"\u001b[39;49m\u001b[43m)\u001b[49m\u001b[43m,\u001b[49m\n\u001b[0;32m   1181\u001b[0m \u001b[43m    \u001b[49m\u001b[43mpassword\u001b[49m\u001b[38;5;241;43m=\u001b[39;49m\u001b[38;5;28;43;01mFalse\u001b[39;49;00m\u001b[43m,\u001b[49m\n\u001b[0;32m   1182\u001b[0m \u001b[43m\u001b[49m\u001b[43m)\u001b[49m\n",
      "File \u001b[1;32m~\\AppData\\Local\\Programs\\Python\\Python310\\lib\\site-packages\\ipykernel\\kernelbase.py:1219\u001b[0m, in \u001b[0;36mKernel._input_request\u001b[1;34m(self, prompt, ident, parent, password)\u001b[0m\n\u001b[0;32m   1216\u001b[0m             \u001b[38;5;28;01mbreak\u001b[39;00m\n\u001b[0;32m   1217\u001b[0m \u001b[38;5;28;01mexcept\u001b[39;00m \u001b[38;5;167;01mKeyboardInterrupt\u001b[39;00m:\n\u001b[0;32m   1218\u001b[0m     \u001b[38;5;66;03m# re-raise KeyboardInterrupt, to truncate traceback\u001b[39;00m\n\u001b[1;32m-> 1219\u001b[0m     \u001b[38;5;28;01mraise\u001b[39;00m \u001b[38;5;167;01mKeyboardInterrupt\u001b[39;00m(\u001b[38;5;124m\"\u001b[39m\u001b[38;5;124mInterrupted by user\u001b[39m\u001b[38;5;124m\"\u001b[39m) \u001b[38;5;28;01mfrom\u001b[39;00m \u001b[38;5;28mNone\u001b[39m\n\u001b[0;32m   1220\u001b[0m \u001b[38;5;28;01mexcept\u001b[39;00m \u001b[38;5;167;01mException\u001b[39;00m:\n\u001b[0;32m   1221\u001b[0m     \u001b[38;5;28mself\u001b[39m\u001b[38;5;241m.\u001b[39mlog\u001b[38;5;241m.\u001b[39mwarning(\u001b[38;5;124m\"\u001b[39m\u001b[38;5;124mInvalid Message:\u001b[39m\u001b[38;5;124m\"\u001b[39m, exc_info\u001b[38;5;241m=\u001b[39m\u001b[38;5;28;01mTrue\u001b[39;00m)\n",
      "\u001b[1;31mKeyboardInterrupt\u001b[0m: Interrupted by user"
     ]
    }
   ],
   "source": [
    "manage_databank()"
   ]
  }
 ],
 "metadata": {
  "kernelspec": {
   "display_name": "Python 3 (ipykernel)",
   "language": "python",
   "name": "python3"
  },
  "language_info": {
   "codemirror_mode": {
    "name": "ipython",
    "version": 3
   },
   "file_extension": ".py",
   "mimetype": "text/x-python",
   "name": "python",
   "nbconvert_exporter": "python",
   "pygments_lexer": "ipython3",
   "version": "3.10.5"
  }
 },
 "nbformat": 4,
 "nbformat_minor": 5
}
