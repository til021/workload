{
 "cells": [
  {
   "cell_type": "code",
   "execution_count": 2,
   "id": "bdcf8b2c",
   "metadata": {},
   "outputs": [],
   "source": [
    "import csv\n",
    "import os"
   ]
  },
  {
   "cell_type": "code",
   "execution_count": 3,
   "id": "a734ab4d",
   "metadata": {},
   "outputs": [],
   "source": [
    "# Primeira opção: Visualizar bancos de dados existentes\n",
    "\n",
    "def option_0(path = r\"C:\\Users\\tiago\\OneDrive\\Python\\Jupyter\\Suzano\"):\n",
    "    \n",
    "# Identificando todos os arquivos no diretório e criando uma variável em formato de lista:\n",
    "    arquivos = os.listdir(path)\n",
    "    \n",
    "# Selecionando os arquivos em formato csv:\n",
    "    arquivos_csv = []\n",
    "    for item in arquivos:\n",
    "        if item.endswith(\".csv\"): # Verificamos se o item é no formato .csv\n",
    "            arquivos_csv.append(item[:-4]) # Removemos o tipo de arquivo da lista\n",
    "    \n",
    "    return(arquivos_csv)\n",
    "\n",
    "# Depois quero aprender como colocar o código acima em uma função lambda\n"
   ]
  },
  {
   "cell_type": "code",
   "execution_count": 4,
   "id": "6785f743",
   "metadata": {},
   "outputs": [],
   "source": [
    "# Segunda opção: Inserir um novo banco de dados\n",
    "\n",
    "def option_1(path = r\"C:\\Users\\tiago\\OneDrive\\Python\\Jupyter\\Suzano\"):\n",
    "        \n",
    "    nome_bd = input(\"Digite o nome do novo banco de dados: \")\n",
    "    \n",
    "# Saindo da opção:    \n",
    "    if nome_bd == \"\":\n",
    "        return 0\n",
    "    \n",
    "# Verificando se o BD já existe:    \n",
    "    while nome_bd in option_0():\n",
    "        nome_bd = input(\"Digite o nome de um banco de dados que não exista: \")\n",
    "        if nome_bd == \"\":\n",
    "            return 0\n",
    "    \n",
    "# Criando as colunas do BD:    \n",
    "    with open(f\"{path}/{nome_bd}.csv\", \"w\", newline = \"\") as arquivo_aberto:\n",
    "        header = []\n",
    "        nome_coluna = input(f\"Digite o nome da primeira coluna: \")\n",
    "        \n",
    "        while nome_coluna != \"\":\n",
    "            header.append(nome_coluna)\n",
    "            nome_coluna = input(f\"Digite o nome da próxima coluna: \")\n",
    "                            \n",
    "# Gravando as colunas no arquivo:                \n",
    "        csv.writer(arquivo_aberto).writerow(header)\n",
    "    \n",
    "    return(header, nome_bd)\n",
    "              "
   ]
  },
  {
   "cell_type": "code",
   "execution_count": 5,
   "id": "da196543",
   "metadata": {},
   "outputs": [],
   "source": [
    "def option_2(path = r\"C:\\Users\\tiago\\OneDrive\\Python\\Jupyter\\Suzano\"):\n",
    "    \n",
    "# Selecionando o BD:\n",
    "    nome_arquivo = input(\"Digite o nome do banco de dados a ser utilizado: \")\n",
    "    \n",
    "# Saindo da opção:    \n",
    "    if nome_arquivo == \"\":\n",
    "        return\n",
    "    \n",
    "# Verificando se o BD já existe:    \n",
    "    while nome_arquivo not in option_0():\n",
    "        nome_arquivo = input(\"Digite o nome de um banco de dados que já exista: \")\n",
    "        if nome_arquivo == \"\":\n",
    "            return\n",
    "        \n",
    "# Descobrindo o header do arquivo:\n",
    "    with open(f\"{path}/{nome_arquivo}.csv\", \"r\") as arquivo_aberto:\n",
    "        # Temos que criar um leitor do arquivo antes!\n",
    "        leitor = csv.reader(arquivo_aberto)\n",
    "        header = next(leitor)\n",
    "                \n",
    "# Ler o arquivo e armazenar as linhas em uma tabela\n",
    "        dataset = []\n",
    "        for linha in leitor:\n",
    "            dataset.append(linha)\n",
    "            \n",
    "# Criar a nova linha da tabela\n",
    "    nova_linha = []\n",
    "    for atributo in range(0,len(header)):\n",
    "        nova_linha.append(input(f\"Digite o valor do atributo [{header[atributo]}]: \"))\n",
    "            \n",
    "# Adicionar novas linhas à tabela\n",
    "    with open(f\"{path}/{nome_arquivo}.csv\", \"w\", newline = \"\") as arquivo_aberto:\n",
    "        csv.writer(arquivo_aberto).writerow(header)\n",
    "        for linha in dataset:\n",
    "            csv.writer(arquivo_aberto).writerow(linha)\n",
    "        csv.writer(arquivo_aberto).writerow(nova_linha)\n",
    "  "
   ]
  },
  {
   "cell_type": "code",
   "execution_count": 6,
   "id": "3ea44670",
   "metadata": {},
   "outputs": [],
   "source": [
    "def manage_databank(path = r\"C:\\Users\\tiago\\OneDrive\\Python\\Jupyter\\Suzano\"):\n",
    "\n",
    "    options = [\"1\", \"2\", \"3\"]\n",
    "    action = 0\n",
    "    \n",
    "    print(\"\\nAqui temos a lista dos bancos de dados cadastrados:\\n\")\n",
    "    print(option_0())\n",
    "        \n",
    "# Opções que podem ser selecionadas:\n",
    "    while action not in options:\n",
    "    \n",
    "        action = input(\"Selecione uma opção válida: \\n\\n\\\n",
    "        [1] Inserir novo banco de dados \\n\\\n",
    "        [2] Inserir novo dado em um banco existente\\n\\\n",
    "        [3] Sair\\n\\n\")\n",
    "        \n",
    "# Seleção da primeira opção:                     \n",
    "    if action == \"1\":\n",
    "        print(\"\\nVocê escolheu inserir um novo banco de dados:\\n\")\n",
    "        results = option_1(path)\n",
    "        try:\n",
    "            print (f\"Foram criadas as colunas {results[0]} no banco de dados {results[1]}.csv\")\n",
    "        except:\n",
    "            print(\"\\nNão foi criado nenhum banco de dados.\")\n",
    "\n",
    "# Seleção da segunda opção:           \n",
    "    elif action == \"2\":\n",
    "        print(\"\\nVocê escolheu inserir um dado novo em um banco existente:\\n\")\n",
    "        option_2(path)\n",
    "    \n",
    "    else:\n",
    "        return\n",
    "    "
   ]
  },
  {
   "cell_type": "code",
   "execution_count": null,
   "id": "3ebc5f55",
   "metadata": {},
   "outputs": [
    {
     "name": "stdout",
     "output_type": "stream",
     "text": [
      "\n",
      "Aqui temos a lista dos bancos de dados cadastrados:\n",
      "\n",
      "['587', '589', 'bd', 'novo banco']\n"
     ]
    }
   ],
   "source": [
    "manage_databank()"
   ]
  }
 ],
 "metadata": {
  "kernelspec": {
   "display_name": "Python 3 (ipykernel)",
   "language": "python",
   "name": "python3"
  },
  "language_info": {
   "codemirror_mode": {
    "name": "ipython",
    "version": 3
   },
   "file_extension": ".py",
   "mimetype": "text/x-python",
   "name": "python",
   "nbconvert_exporter": "python",
   "pygments_lexer": "ipython3",
   "version": "3.10.5"
  }
 },
 "nbformat": 4,
 "nbformat_minor": 5
}
